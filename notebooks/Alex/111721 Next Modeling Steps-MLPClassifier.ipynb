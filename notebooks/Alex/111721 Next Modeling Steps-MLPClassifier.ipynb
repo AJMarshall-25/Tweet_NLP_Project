{
 "cells": [
  {
   "cell_type": "markdown",
   "metadata": {},
   "source": [
    "## THE BASICS - Importing, train/test split"
   ]
  },
  {
   "cell_type": "code",
   "execution_count": 3,
   "metadata": {},
   "outputs": [],
   "source": [
    "import numpy as np\n",
    "import pandas as pd"
   ]
  },
  {
   "cell_type": "code",
   "execution_count": 4,
   "metadata": {},
   "outputs": [],
   "source": [
    "main_df = pd.read_csv('data/df', index_col=0)"
   ]
  },
  {
   "cell_type": "code",
   "execution_count": 5,
   "metadata": {
    "scrolled": true
   },
   "outputs": [
    {
     "data": {
      "text/html": [
       "<div>\n",
       "<style scoped>\n",
       "    .dataframe tbody tr th:only-of-type {\n",
       "        vertical-align: middle;\n",
       "    }\n",
       "\n",
       "    .dataframe tbody tr th {\n",
       "        vertical-align: top;\n",
       "    }\n",
       "\n",
       "    .dataframe thead th {\n",
       "        text-align: right;\n",
       "    }\n",
       "</style>\n",
       "<table border=\"1\" class=\"dataframe\">\n",
       "  <thead>\n",
       "    <tr style=\"text-align: right;\">\n",
       "      <th></th>\n",
       "      <th>tweet</th>\n",
       "      <th>product</th>\n",
       "      <th>emotion</th>\n",
       "      <th>brand</th>\n",
       "      <th>emotion_label</th>\n",
       "      <th>length</th>\n",
       "      <th>exclamation</th>\n",
       "      <th>hashtag</th>\n",
       "      <th>mention</th>\n",
       "      <th>sentiment</th>\n",
       "      <th>clean_tweet</th>\n",
       "      <th>tokens</th>\n",
       "      <th>tokens_no_brands</th>\n",
       "      <th>tokens_sparse</th>\n",
       "    </tr>\n",
       "  </thead>\n",
       "  <tbody>\n",
       "    <tr>\n",
       "      <th>0</th>\n",
       "      <td>.@wesley83 I have a 3G iPhone. After 3 hrs twe...</td>\n",
       "      <td>iPhone</td>\n",
       "      <td>Negative</td>\n",
       "      <td>Apple</td>\n",
       "      <td>0</td>\n",
       "      <td>127</td>\n",
       "      <td>True</td>\n",
       "      <td>['#RISE_Austin', '#SXSW']</td>\n",
       "      <td>['wesley83']</td>\n",
       "      <td>True</td>\n",
       "      <td>mention i have a 3g iphone  after 3 hrs twee...</td>\n",
       "      <td>['mention', '3g', 'iphone', '3', 'hrs', 'tweet...</td>\n",
       "      <td>['mention', '3g', '3', 'hrs', 'tweeting', 'ris...</td>\n",
       "      <td>['3g', 'hrs', 'tweeting', 'rise_austin', 'dead...</td>\n",
       "    </tr>\n",
       "    <tr>\n",
       "      <th>1</th>\n",
       "      <td>@jessedee Know about @fludapp ? Awesome iPad/i...</td>\n",
       "      <td>iPad or iPhone App</td>\n",
       "      <td>Positive</td>\n",
       "      <td>Apple</td>\n",
       "      <td>2</td>\n",
       "      <td>139</td>\n",
       "      <td>False</td>\n",
       "      <td>['#SXSW']</td>\n",
       "      <td>['jessedee', 'fludapp']</td>\n",
       "      <td>True</td>\n",
       "      <td>mention know about  mention   awesome ipad ip...</td>\n",
       "      <td>['mention', 'know', 'mention', 'awesome', 'ipa...</td>\n",
       "      <td>['mention', 'know', 'mention', 'awesome', 'app...</td>\n",
       "      <td>['know', 'awesome', 'likely', 'appreciate', 'd...</td>\n",
       "    </tr>\n",
       "    <tr>\n",
       "      <th>2</th>\n",
       "      <td>@swonderlin Can not wait for #iPad 2 also. The...</td>\n",
       "      <td>iPad</td>\n",
       "      <td>Positive</td>\n",
       "      <td>Apple</td>\n",
       "      <td>2</td>\n",
       "      <td>79</td>\n",
       "      <td>False</td>\n",
       "      <td>['#iPad', '#SXSW']</td>\n",
       "      <td>['swonderlin']</td>\n",
       "      <td>True</td>\n",
       "      <td>mention can not wait for  ipad 2 also  they s...</td>\n",
       "      <td>['mention', 'wait', 'ipad', '2', 'also', 'sale...</td>\n",
       "      <td>['mention', 'wait', '2', 'also', 'sale', 'sxsw']</td>\n",
       "      <td>['wait', 'also', 'sale']</td>\n",
       "    </tr>\n",
       "    <tr>\n",
       "      <th>3</th>\n",
       "      <td>@sxsw I hope this year's festival isn't as cra...</td>\n",
       "      <td>iPad or iPhone App</td>\n",
       "      <td>Negative</td>\n",
       "      <td>Apple</td>\n",
       "      <td>0</td>\n",
       "      <td>82</td>\n",
       "      <td>False</td>\n",
       "      <td>['#sxsw']</td>\n",
       "      <td>['sxsw']</td>\n",
       "      <td>True</td>\n",
       "      <td>mention i hope this year s festival isn t as ...</td>\n",
       "      <td>['mention', 'hope', 'year', 'festival', 'crash...</td>\n",
       "      <td>['mention', 'hope', 'year', 'festival', 'crash...</td>\n",
       "      <td>['hope', 'year', 'festival', 'crashy', 'year']</td>\n",
       "    </tr>\n",
       "    <tr>\n",
       "      <th>4</th>\n",
       "      <td>@sxtxstate great stuff on Fri #SXSW: Marissa M...</td>\n",
       "      <td>Google</td>\n",
       "      <td>Positive</td>\n",
       "      <td>Google</td>\n",
       "      <td>2</td>\n",
       "      <td>131</td>\n",
       "      <td>False</td>\n",
       "      <td>['#SXSW']</td>\n",
       "      <td>['sxtxstate']</td>\n",
       "      <td>True</td>\n",
       "      <td>mention great stuff on fri  sxsw  marissa may...</td>\n",
       "      <td>['mention', 'great', 'stuff', 'fri', 'sxsw', '...</td>\n",
       "      <td>['mention', 'great', 'stuff', 'fri', 'sxsw', '...</td>\n",
       "      <td>['great', 'stuff', 'fri', 'marissa', 'mayer', ...</td>\n",
       "    </tr>\n",
       "    <tr>\n",
       "      <th>...</th>\n",
       "      <td>...</td>\n",
       "      <td>...</td>\n",
       "      <td>...</td>\n",
       "      <td>...</td>\n",
       "      <td>...</td>\n",
       "      <td>...</td>\n",
       "      <td>...</td>\n",
       "      <td>...</td>\n",
       "      <td>...</td>\n",
       "      <td>...</td>\n",
       "      <td>...</td>\n",
       "      <td>...</td>\n",
       "      <td>...</td>\n",
       "      <td>...</td>\n",
       "    </tr>\n",
       "    <tr>\n",
       "      <th>9088</th>\n",
       "      <td>Ipad everywhere. #SXSW {link}</td>\n",
       "      <td>iPad</td>\n",
       "      <td>Positive</td>\n",
       "      <td>Apple</td>\n",
       "      <td>2</td>\n",
       "      <td>29</td>\n",
       "      <td>False</td>\n",
       "      <td>['#SXSW']</td>\n",
       "      <td>[]</td>\n",
       "      <td>True</td>\n",
       "      <td>ipad everywhere   sxsw  link</td>\n",
       "      <td>['ipad', 'everywhere', 'sxsw', 'link']</td>\n",
       "      <td>['everywhere', 'sxsw', 'link']</td>\n",
       "      <td>['everywhere']</td>\n",
       "    </tr>\n",
       "    <tr>\n",
       "      <th>9089</th>\n",
       "      <td>Wave, buzz... RT @mention We interrupt your re...</td>\n",
       "      <td>None</td>\n",
       "      <td>None</td>\n",
       "      <td>NaN</td>\n",
       "      <td>1</td>\n",
       "      <td>125</td>\n",
       "      <td>False</td>\n",
       "      <td>['#sxsw', '#google', '#circles']</td>\n",
       "      <td>['mention']</td>\n",
       "      <td>False</td>\n",
       "      <td>wave  buzz    rt  mention we interrupt your re...</td>\n",
       "      <td>['wave', 'buzz', 'rt', 'mention', 'interrupt',...</td>\n",
       "      <td>['wave', 'buzz', 'rt', 'mention', 'interrupt',...</td>\n",
       "      <td>['wave', 'buzz', 'interrupt', 'regularly', 'sc...</td>\n",
       "    </tr>\n",
       "    <tr>\n",
       "      <th>9090</th>\n",
       "      <td>Google's Zeiger, a physician never reported po...</td>\n",
       "      <td>None</td>\n",
       "      <td>None</td>\n",
       "      <td>NaN</td>\n",
       "      <td>1</td>\n",
       "      <td>145</td>\n",
       "      <td>False</td>\n",
       "      <td>['#sxsw', '#health2dev']</td>\n",
       "      <td>[]</td>\n",
       "      <td>False</td>\n",
       "      <td>google s zeiger  a physician never reported po...</td>\n",
       "      <td>['google', 'zeiger', 'physician', 'never', 're...</td>\n",
       "      <td>['zeiger', 'physician', 'never', 'reported', '...</td>\n",
       "      <td>['zeiger', 'physician', 'never', 'reported', '...</td>\n",
       "    </tr>\n",
       "    <tr>\n",
       "      <th>9091</th>\n",
       "      <td>Some Verizon iPhone customers complained their...</td>\n",
       "      <td>None</td>\n",
       "      <td>None</td>\n",
       "      <td>NaN</td>\n",
       "      <td>1</td>\n",
       "      <td>140</td>\n",
       "      <td>False</td>\n",
       "      <td>['#SXSW']</td>\n",
       "      <td>[]</td>\n",
       "      <td>False</td>\n",
       "      <td>some verizon iphone customers complained their...</td>\n",
       "      <td>['verizon', 'iphone', 'customers', 'complained...</td>\n",
       "      <td>['verizon', 'customers', 'complained', 'time',...</td>\n",
       "      <td>['verizon', 'customers', 'complained', 'time',...</td>\n",
       "    </tr>\n",
       "    <tr>\n",
       "      <th>9092</th>\n",
       "      <td>Ï¡Ïàü_ÊÎÒ£Áââ_£â_ÛâRT @...</td>\n",
       "      <td>None</td>\n",
       "      <td>None</td>\n",
       "      <td>NaN</td>\n",
       "      <td>1</td>\n",
       "      <td>104</td>\n",
       "      <td>False</td>\n",
       "      <td>['#SXSW']</td>\n",
       "      <td>['mention']</td>\n",
       "      <td>False</td>\n",
       "      <td>_        _        _  rt  mention google te...</td>\n",
       "      <td>['_', '_', '_', 'rt', 'mention', 'google', 'te...</td>\n",
       "      <td>['_', '_', '_', 'rt', 'mention', 'tests', 'che...</td>\n",
       "      <td>['_', '_', '_', 'tests', 'check', 'offers']</td>\n",
       "    </tr>\n",
       "  </tbody>\n",
       "</table>\n",
       "<p>8909 rows × 14 columns</p>\n",
       "</div>"
      ],
      "text/plain": [
       "                                                  tweet             product  \\\n",
       "0     .@wesley83 I have a 3G iPhone. After 3 hrs twe...              iPhone   \n",
       "1     @jessedee Know about @fludapp ? Awesome iPad/i...  iPad or iPhone App   \n",
       "2     @swonderlin Can not wait for #iPad 2 also. The...                iPad   \n",
       "3     @sxsw I hope this year's festival isn't as cra...  iPad or iPhone App   \n",
       "4     @sxtxstate great stuff on Fri #SXSW: Marissa M...              Google   \n",
       "...                                                 ...                 ...   \n",
       "9088                      Ipad everywhere. #SXSW {link}                iPad   \n",
       "9089  Wave, buzz... RT @mention We interrupt your re...                None   \n",
       "9090  Google's Zeiger, a physician never reported po...                None   \n",
       "9091  Some Verizon iPhone customers complained their...                None   \n",
       "9092  Ï¡Ïàü_ÊÎÒ£Áââ_£â_ÛâRT @...                None   \n",
       "\n",
       "       emotion   brand  emotion_label  length  exclamation  \\\n",
       "0     Negative   Apple              0     127         True   \n",
       "1     Positive   Apple              2     139        False   \n",
       "2     Positive   Apple              2      79        False   \n",
       "3     Negative   Apple              0      82        False   \n",
       "4     Positive  Google              2     131        False   \n",
       "...        ...     ...            ...     ...          ...   \n",
       "9088  Positive   Apple              2      29        False   \n",
       "9089      None     NaN              1     125        False   \n",
       "9090      None     NaN              1     145        False   \n",
       "9091      None     NaN              1     140        False   \n",
       "9092      None     NaN              1     104        False   \n",
       "\n",
       "                               hashtag                  mention  sentiment  \\\n",
       "0            ['#RISE_Austin', '#SXSW']             ['wesley83']       True   \n",
       "1                            ['#SXSW']  ['jessedee', 'fludapp']       True   \n",
       "2                   ['#iPad', '#SXSW']           ['swonderlin']       True   \n",
       "3                            ['#sxsw']                 ['sxsw']       True   \n",
       "4                            ['#SXSW']            ['sxtxstate']       True   \n",
       "...                                ...                      ...        ...   \n",
       "9088                         ['#SXSW']                       []       True   \n",
       "9089  ['#sxsw', '#google', '#circles']              ['mention']      False   \n",
       "9090          ['#sxsw', '#health2dev']                       []      False   \n",
       "9091                         ['#SXSW']                       []      False   \n",
       "9092                         ['#SXSW']              ['mention']      False   \n",
       "\n",
       "                                            clean_tweet  \\\n",
       "0       mention i have a 3g iphone  after 3 hrs twee...   \n",
       "1      mention know about  mention   awesome ipad ip...   \n",
       "2      mention can not wait for  ipad 2 also  they s...   \n",
       "3      mention i hope this year s festival isn t as ...   \n",
       "4      mention great stuff on fri  sxsw  marissa may...   \n",
       "...                                                 ...   \n",
       "9088                      ipad everywhere   sxsw  link    \n",
       "9089  wave  buzz    rt  mention we interrupt your re...   \n",
       "9090  google s zeiger  a physician never reported po...   \n",
       "9091  some verizon iphone customers complained their...   \n",
       "9092      _        _        _  rt  mention google te...   \n",
       "\n",
       "                                                 tokens  \\\n",
       "0     ['mention', '3g', 'iphone', '3', 'hrs', 'tweet...   \n",
       "1     ['mention', 'know', 'mention', 'awesome', 'ipa...   \n",
       "2     ['mention', 'wait', 'ipad', '2', 'also', 'sale...   \n",
       "3     ['mention', 'hope', 'year', 'festival', 'crash...   \n",
       "4     ['mention', 'great', 'stuff', 'fri', 'sxsw', '...   \n",
       "...                                                 ...   \n",
       "9088             ['ipad', 'everywhere', 'sxsw', 'link']   \n",
       "9089  ['wave', 'buzz', 'rt', 'mention', 'interrupt',...   \n",
       "9090  ['google', 'zeiger', 'physician', 'never', 're...   \n",
       "9091  ['verizon', 'iphone', 'customers', 'complained...   \n",
       "9092  ['_', '_', '_', 'rt', 'mention', 'google', 'te...   \n",
       "\n",
       "                                       tokens_no_brands  \\\n",
       "0     ['mention', '3g', '3', 'hrs', 'tweeting', 'ris...   \n",
       "1     ['mention', 'know', 'mention', 'awesome', 'app...   \n",
       "2      ['mention', 'wait', '2', 'also', 'sale', 'sxsw']   \n",
       "3     ['mention', 'hope', 'year', 'festival', 'crash...   \n",
       "4     ['mention', 'great', 'stuff', 'fri', 'sxsw', '...   \n",
       "...                                                 ...   \n",
       "9088                     ['everywhere', 'sxsw', 'link']   \n",
       "9089  ['wave', 'buzz', 'rt', 'mention', 'interrupt',...   \n",
       "9090  ['zeiger', 'physician', 'never', 'reported', '...   \n",
       "9091  ['verizon', 'customers', 'complained', 'time',...   \n",
       "9092  ['_', '_', '_', 'rt', 'mention', 'tests', 'che...   \n",
       "\n",
       "                                          tokens_sparse  \n",
       "0     ['3g', 'hrs', 'tweeting', 'rise_austin', 'dead...  \n",
       "1     ['know', 'awesome', 'likely', 'appreciate', 'd...  \n",
       "2                              ['wait', 'also', 'sale']  \n",
       "3        ['hope', 'year', 'festival', 'crashy', 'year']  \n",
       "4     ['great', 'stuff', 'fri', 'marissa', 'mayer', ...  \n",
       "...                                                 ...  \n",
       "9088                                     ['everywhere']  \n",
       "9089  ['wave', 'buzz', 'interrupt', 'regularly', 'sc...  \n",
       "9090  ['zeiger', 'physician', 'never', 'reported', '...  \n",
       "9091  ['verizon', 'customers', 'complained', 'time',...  \n",
       "9092        ['_', '_', '_', 'tests', 'check', 'offers']  \n",
       "\n",
       "[8909 rows x 14 columns]"
      ]
     },
     "execution_count": 5,
     "metadata": {},
     "output_type": "execute_result"
    }
   ],
   "source": [
    "main_df"
   ]
  },
  {
   "cell_type": "code",
   "execution_count": 6,
   "metadata": {},
   "outputs": [],
   "source": [
    "# convert lists back into form from strings after import (because import treats list as strings)\n",
    "\n",
    "\n",
    "import ast\n",
    "main_df['tokens'] =[ast.literal_eval(x) for x in main_df['tokens'] ]\n",
    "main_df['tokens_sparse'] =[ast.literal_eval(x) for x in main_df['tokens_sparse'] ]\n",
    "main_df['tokens_no_brands'] =[ast.literal_eval(x) for x in main_df['tokens_no_brands'] ]"
   ]
  },
  {
   "cell_type": "code",
   "execution_count": 7,
   "metadata": {},
   "outputs": [],
   "source": [
    "main_df['sparse_joined'] = main_df['tokens_sparse'].apply(lambda x: \" \".join(x))\n",
    "main_df['tokens_joined'] = main_df['tokens'].apply(lambda x: \" \".join(x))\n",
    "main_df['no_brand_joined'] = main_df['tokens_no_brands'].apply(lambda x: \" \".join(x))"
   ]
  },
  {
   "cell_type": "code",
   "execution_count": 8,
   "metadata": {},
   "outputs": [
    {
     "data": {
      "text/plain": [
       "list"
      ]
     },
     "execution_count": 8,
     "metadata": {},
     "output_type": "execute_result"
    }
   ],
   "source": [
    "type(main_df['tokens'].iloc[0])"
   ]
  },
  {
   "cell_type": "code",
   "execution_count": 9,
   "metadata": {},
   "outputs": [
    {
     "data": {
      "text/html": [
       "<div>\n",
       "<style scoped>\n",
       "    .dataframe tbody tr th:only-of-type {\n",
       "        vertical-align: middle;\n",
       "    }\n",
       "\n",
       "    .dataframe tbody tr th {\n",
       "        vertical-align: top;\n",
       "    }\n",
       "\n",
       "    .dataframe thead th {\n",
       "        text-align: right;\n",
       "    }\n",
       "</style>\n",
       "<table border=\"1\" class=\"dataframe\">\n",
       "  <thead>\n",
       "    <tr style=\"text-align: right;\">\n",
       "      <th></th>\n",
       "      <th>tweet</th>\n",
       "      <th>product</th>\n",
       "      <th>emotion</th>\n",
       "      <th>brand</th>\n",
       "      <th>emotion_label</th>\n",
       "      <th>length</th>\n",
       "      <th>exclamation</th>\n",
       "      <th>hashtag</th>\n",
       "      <th>mention</th>\n",
       "      <th>sentiment</th>\n",
       "      <th>clean_tweet</th>\n",
       "      <th>tokens</th>\n",
       "      <th>tokens_no_brands</th>\n",
       "      <th>tokens_sparse</th>\n",
       "      <th>sparse_joined</th>\n",
       "      <th>tokens_joined</th>\n",
       "      <th>no_brand_joined</th>\n",
       "    </tr>\n",
       "  </thead>\n",
       "  <tbody>\n",
       "    <tr>\n",
       "      <th>0</th>\n",
       "      <td>.@wesley83 I have a 3G iPhone. After 3 hrs twe...</td>\n",
       "      <td>iPhone</td>\n",
       "      <td>Negative</td>\n",
       "      <td>Apple</td>\n",
       "      <td>0</td>\n",
       "      <td>127</td>\n",
       "      <td>True</td>\n",
       "      <td>['#RISE_Austin', '#SXSW']</td>\n",
       "      <td>['wesley83']</td>\n",
       "      <td>True</td>\n",
       "      <td>mention i have a 3g iphone  after 3 hrs twee...</td>\n",
       "      <td>[mention, 3g, iphone, 3, hrs, tweeting, rise_a...</td>\n",
       "      <td>[mention, 3g, 3, hrs, tweeting, rise_austin, d...</td>\n",
       "      <td>[3g, hrs, tweeting, rise_austin, dead, need, u...</td>\n",
       "      <td>3g hrs tweeting rise_austin dead need upgrade ...</td>\n",
       "      <td>mention 3g iphone 3 hrs tweeting rise_austin d...</td>\n",
       "      <td>mention 3g 3 hrs tweeting rise_austin dead nee...</td>\n",
       "    </tr>\n",
       "    <tr>\n",
       "      <th>1</th>\n",
       "      <td>@jessedee Know about @fludapp ? Awesome iPad/i...</td>\n",
       "      <td>iPad or iPhone App</td>\n",
       "      <td>Positive</td>\n",
       "      <td>Apple</td>\n",
       "      <td>2</td>\n",
       "      <td>139</td>\n",
       "      <td>False</td>\n",
       "      <td>['#SXSW']</td>\n",
       "      <td>['jessedee', 'fludapp']</td>\n",
       "      <td>True</td>\n",
       "      <td>mention know about  mention   awesome ipad ip...</td>\n",
       "      <td>[mention, know, mention, awesome, ipad, iphone...</td>\n",
       "      <td>[mention, know, mention, awesome, app, likely,...</td>\n",
       "      <td>[know, awesome, likely, appreciate, design, al...</td>\n",
       "      <td>know awesome likely appreciate design also giv...</td>\n",
       "      <td>mention know mention awesome ipad iphone app l...</td>\n",
       "      <td>mention know mention awesome app likely apprec...</td>\n",
       "    </tr>\n",
       "    <tr>\n",
       "      <th>2</th>\n",
       "      <td>@swonderlin Can not wait for #iPad 2 also. The...</td>\n",
       "      <td>iPad</td>\n",
       "      <td>Positive</td>\n",
       "      <td>Apple</td>\n",
       "      <td>2</td>\n",
       "      <td>79</td>\n",
       "      <td>False</td>\n",
       "      <td>['#iPad', '#SXSW']</td>\n",
       "      <td>['swonderlin']</td>\n",
       "      <td>True</td>\n",
       "      <td>mention can not wait for  ipad 2 also  they s...</td>\n",
       "      <td>[mention, wait, ipad, 2, also, sale, sxsw]</td>\n",
       "      <td>[mention, wait, 2, also, sale, sxsw]</td>\n",
       "      <td>[wait, also, sale]</td>\n",
       "      <td>wait also sale</td>\n",
       "      <td>mention wait ipad 2 also sale sxsw</td>\n",
       "      <td>mention wait 2 also sale sxsw</td>\n",
       "    </tr>\n",
       "    <tr>\n",
       "      <th>3</th>\n",
       "      <td>@sxsw I hope this year's festival isn't as cra...</td>\n",
       "      <td>iPad or iPhone App</td>\n",
       "      <td>Negative</td>\n",
       "      <td>Apple</td>\n",
       "      <td>0</td>\n",
       "      <td>82</td>\n",
       "      <td>False</td>\n",
       "      <td>['#sxsw']</td>\n",
       "      <td>['sxsw']</td>\n",
       "      <td>True</td>\n",
       "      <td>mention i hope this year s festival isn t as ...</td>\n",
       "      <td>[mention, hope, year, festival, crashy, year, ...</td>\n",
       "      <td>[mention, hope, year, festival, crashy, year, ...</td>\n",
       "      <td>[hope, year, festival, crashy, year]</td>\n",
       "      <td>hope year festival crashy year</td>\n",
       "      <td>mention hope year festival crashy year iphone ...</td>\n",
       "      <td>mention hope year festival crashy year app men...</td>\n",
       "    </tr>\n",
       "    <tr>\n",
       "      <th>4</th>\n",
       "      <td>@sxtxstate great stuff on Fri #SXSW: Marissa M...</td>\n",
       "      <td>Google</td>\n",
       "      <td>Positive</td>\n",
       "      <td>Google</td>\n",
       "      <td>2</td>\n",
       "      <td>131</td>\n",
       "      <td>False</td>\n",
       "      <td>['#SXSW']</td>\n",
       "      <td>['sxtxstate']</td>\n",
       "      <td>True</td>\n",
       "      <td>mention great stuff on fri  sxsw  marissa may...</td>\n",
       "      <td>[mention, great, stuff, fri, sxsw, marissa, ma...</td>\n",
       "      <td>[mention, great, stuff, fri, sxsw, marissa, ma...</td>\n",
       "      <td>[great, stuff, fri, marissa, mayer, tim, reill...</td>\n",
       "      <td>great stuff fri marissa mayer tim reilly tech ...</td>\n",
       "      <td>mention great stuff fri sxsw marissa mayer goo...</td>\n",
       "      <td>mention great stuff fri sxsw marissa mayer tim...</td>\n",
       "    </tr>\n",
       "    <tr>\n",
       "      <th>...</th>\n",
       "      <td>...</td>\n",
       "      <td>...</td>\n",
       "      <td>...</td>\n",
       "      <td>...</td>\n",
       "      <td>...</td>\n",
       "      <td>...</td>\n",
       "      <td>...</td>\n",
       "      <td>...</td>\n",
       "      <td>...</td>\n",
       "      <td>...</td>\n",
       "      <td>...</td>\n",
       "      <td>...</td>\n",
       "      <td>...</td>\n",
       "      <td>...</td>\n",
       "      <td>...</td>\n",
       "      <td>...</td>\n",
       "      <td>...</td>\n",
       "    </tr>\n",
       "    <tr>\n",
       "      <th>9088</th>\n",
       "      <td>Ipad everywhere. #SXSW {link}</td>\n",
       "      <td>iPad</td>\n",
       "      <td>Positive</td>\n",
       "      <td>Apple</td>\n",
       "      <td>2</td>\n",
       "      <td>29</td>\n",
       "      <td>False</td>\n",
       "      <td>['#SXSW']</td>\n",
       "      <td>[]</td>\n",
       "      <td>True</td>\n",
       "      <td>ipad everywhere   sxsw  link</td>\n",
       "      <td>[ipad, everywhere, sxsw, link]</td>\n",
       "      <td>[everywhere, sxsw, link]</td>\n",
       "      <td>[everywhere]</td>\n",
       "      <td>everywhere</td>\n",
       "      <td>ipad everywhere sxsw link</td>\n",
       "      <td>everywhere sxsw link</td>\n",
       "    </tr>\n",
       "    <tr>\n",
       "      <th>9089</th>\n",
       "      <td>Wave, buzz... RT @mention We interrupt your re...</td>\n",
       "      <td>None</td>\n",
       "      <td>None</td>\n",
       "      <td>NaN</td>\n",
       "      <td>1</td>\n",
       "      <td>125</td>\n",
       "      <td>False</td>\n",
       "      <td>['#sxsw', '#google', '#circles']</td>\n",
       "      <td>['mention']</td>\n",
       "      <td>False</td>\n",
       "      <td>wave  buzz    rt  mention we interrupt your re...</td>\n",
       "      <td>[wave, buzz, rt, mention, interrupt, regularly...</td>\n",
       "      <td>[wave, buzz, rt, mention, interrupt, regularly...</td>\n",
       "      <td>[wave, buzz, interrupt, regularly, scheduled, ...</td>\n",
       "      <td>wave buzz interrupt regularly scheduled geek p...</td>\n",
       "      <td>wave buzz rt mention interrupt regularly sched...</td>\n",
       "      <td>wave buzz rt mention interrupt regularly sched...</td>\n",
       "    </tr>\n",
       "    <tr>\n",
       "      <th>9090</th>\n",
       "      <td>Google's Zeiger, a physician never reported po...</td>\n",
       "      <td>None</td>\n",
       "      <td>None</td>\n",
       "      <td>NaN</td>\n",
       "      <td>1</td>\n",
       "      <td>145</td>\n",
       "      <td>False</td>\n",
       "      <td>['#sxsw', '#health2dev']</td>\n",
       "      <td>[]</td>\n",
       "      <td>False</td>\n",
       "      <td>google s zeiger  a physician never reported po...</td>\n",
       "      <td>[google, zeiger, physician, never, reported, p...</td>\n",
       "      <td>[zeiger, physician, never, reported, potential...</td>\n",
       "      <td>[zeiger, physician, never, reported, potential...</td>\n",
       "      <td>zeiger physician never reported potential ae y...</td>\n",
       "      <td>google zeiger physician never reported potenti...</td>\n",
       "      <td>zeiger physician never reported potential ae y...</td>\n",
       "    </tr>\n",
       "    <tr>\n",
       "      <th>9091</th>\n",
       "      <td>Some Verizon iPhone customers complained their...</td>\n",
       "      <td>None</td>\n",
       "      <td>None</td>\n",
       "      <td>NaN</td>\n",
       "      <td>1</td>\n",
       "      <td>140</td>\n",
       "      <td>False</td>\n",
       "      <td>['#SXSW']</td>\n",
       "      <td>[]</td>\n",
       "      <td>False</td>\n",
       "      <td>some verizon iphone customers complained their...</td>\n",
       "      <td>[verizon, iphone, customers, complained, time,...</td>\n",
       "      <td>[verizon, customers, complained, time, fell, b...</td>\n",
       "      <td>[verizon, customers, complained, time, fell, b...</td>\n",
       "      <td>verizon customers complained time fell back ho...</td>\n",
       "      <td>verizon iphone customers complained time fell ...</td>\n",
       "      <td>verizon customers complained time fell back ho...</td>\n",
       "    </tr>\n",
       "    <tr>\n",
       "      <th>9092</th>\n",
       "      <td>Ï¡Ïàü_ÊÎÒ£Áââ_£â_ÛâRT @...</td>\n",
       "      <td>None</td>\n",
       "      <td>None</td>\n",
       "      <td>NaN</td>\n",
       "      <td>1</td>\n",
       "      <td>104</td>\n",
       "      <td>False</td>\n",
       "      <td>['#SXSW']</td>\n",
       "      <td>['mention']</td>\n",
       "      <td>False</td>\n",
       "      <td>_        _        _  rt  mention google te...</td>\n",
       "      <td>[_, _, _, rt, mention, google, tests, check, o...</td>\n",
       "      <td>[_, _, _, rt, mention, tests, check, offers, s...</td>\n",
       "      <td>[_, _, _, tests, check, offers]</td>\n",
       "      <td>_ _ _ tests check offers</td>\n",
       "      <td>_ _ _ rt mention google tests check offers sxs...</td>\n",
       "      <td>_ _ _ rt mention tests check offers sxsw link</td>\n",
       "    </tr>\n",
       "  </tbody>\n",
       "</table>\n",
       "<p>8909 rows × 17 columns</p>\n",
       "</div>"
      ],
      "text/plain": [
       "                                                  tweet             product  \\\n",
       "0     .@wesley83 I have a 3G iPhone. After 3 hrs twe...              iPhone   \n",
       "1     @jessedee Know about @fludapp ? Awesome iPad/i...  iPad or iPhone App   \n",
       "2     @swonderlin Can not wait for #iPad 2 also. The...                iPad   \n",
       "3     @sxsw I hope this year's festival isn't as cra...  iPad or iPhone App   \n",
       "4     @sxtxstate great stuff on Fri #SXSW: Marissa M...              Google   \n",
       "...                                                 ...                 ...   \n",
       "9088                      Ipad everywhere. #SXSW {link}                iPad   \n",
       "9089  Wave, buzz... RT @mention We interrupt your re...                None   \n",
       "9090  Google's Zeiger, a physician never reported po...                None   \n",
       "9091  Some Verizon iPhone customers complained their...                None   \n",
       "9092  Ï¡Ïàü_ÊÎÒ£Áââ_£â_ÛâRT @...                None   \n",
       "\n",
       "       emotion   brand  emotion_label  length  exclamation  \\\n",
       "0     Negative   Apple              0     127         True   \n",
       "1     Positive   Apple              2     139        False   \n",
       "2     Positive   Apple              2      79        False   \n",
       "3     Negative   Apple              0      82        False   \n",
       "4     Positive  Google              2     131        False   \n",
       "...        ...     ...            ...     ...          ...   \n",
       "9088  Positive   Apple              2      29        False   \n",
       "9089      None     NaN              1     125        False   \n",
       "9090      None     NaN              1     145        False   \n",
       "9091      None     NaN              1     140        False   \n",
       "9092      None     NaN              1     104        False   \n",
       "\n",
       "                               hashtag                  mention  sentiment  \\\n",
       "0            ['#RISE_Austin', '#SXSW']             ['wesley83']       True   \n",
       "1                            ['#SXSW']  ['jessedee', 'fludapp']       True   \n",
       "2                   ['#iPad', '#SXSW']           ['swonderlin']       True   \n",
       "3                            ['#sxsw']                 ['sxsw']       True   \n",
       "4                            ['#SXSW']            ['sxtxstate']       True   \n",
       "...                                ...                      ...        ...   \n",
       "9088                         ['#SXSW']                       []       True   \n",
       "9089  ['#sxsw', '#google', '#circles']              ['mention']      False   \n",
       "9090          ['#sxsw', '#health2dev']                       []      False   \n",
       "9091                         ['#SXSW']                       []      False   \n",
       "9092                         ['#SXSW']              ['mention']      False   \n",
       "\n",
       "                                            clean_tweet  \\\n",
       "0       mention i have a 3g iphone  after 3 hrs twee...   \n",
       "1      mention know about  mention   awesome ipad ip...   \n",
       "2      mention can not wait for  ipad 2 also  they s...   \n",
       "3      mention i hope this year s festival isn t as ...   \n",
       "4      mention great stuff on fri  sxsw  marissa may...   \n",
       "...                                                 ...   \n",
       "9088                      ipad everywhere   sxsw  link    \n",
       "9089  wave  buzz    rt  mention we interrupt your re...   \n",
       "9090  google s zeiger  a physician never reported po...   \n",
       "9091  some verizon iphone customers complained their...   \n",
       "9092      _        _        _  rt  mention google te...   \n",
       "\n",
       "                                                 tokens  \\\n",
       "0     [mention, 3g, iphone, 3, hrs, tweeting, rise_a...   \n",
       "1     [mention, know, mention, awesome, ipad, iphone...   \n",
       "2            [mention, wait, ipad, 2, also, sale, sxsw]   \n",
       "3     [mention, hope, year, festival, crashy, year, ...   \n",
       "4     [mention, great, stuff, fri, sxsw, marissa, ma...   \n",
       "...                                                 ...   \n",
       "9088                     [ipad, everywhere, sxsw, link]   \n",
       "9089  [wave, buzz, rt, mention, interrupt, regularly...   \n",
       "9090  [google, zeiger, physician, never, reported, p...   \n",
       "9091  [verizon, iphone, customers, complained, time,...   \n",
       "9092  [_, _, _, rt, mention, google, tests, check, o...   \n",
       "\n",
       "                                       tokens_no_brands  \\\n",
       "0     [mention, 3g, 3, hrs, tweeting, rise_austin, d...   \n",
       "1     [mention, know, mention, awesome, app, likely,...   \n",
       "2                  [mention, wait, 2, also, sale, sxsw]   \n",
       "3     [mention, hope, year, festival, crashy, year, ...   \n",
       "4     [mention, great, stuff, fri, sxsw, marissa, ma...   \n",
       "...                                                 ...   \n",
       "9088                           [everywhere, sxsw, link]   \n",
       "9089  [wave, buzz, rt, mention, interrupt, regularly...   \n",
       "9090  [zeiger, physician, never, reported, potential...   \n",
       "9091  [verizon, customers, complained, time, fell, b...   \n",
       "9092  [_, _, _, rt, mention, tests, check, offers, s...   \n",
       "\n",
       "                                          tokens_sparse  \\\n",
       "0     [3g, hrs, tweeting, rise_austin, dead, need, u...   \n",
       "1     [know, awesome, likely, appreciate, design, al...   \n",
       "2                                    [wait, also, sale]   \n",
       "3                  [hope, year, festival, crashy, year]   \n",
       "4     [great, stuff, fri, marissa, mayer, tim, reill...   \n",
       "...                                                 ...   \n",
       "9088                                       [everywhere]   \n",
       "9089  [wave, buzz, interrupt, regularly, scheduled, ...   \n",
       "9090  [zeiger, physician, never, reported, potential...   \n",
       "9091  [verizon, customers, complained, time, fell, b...   \n",
       "9092                    [_, _, _, tests, check, offers]   \n",
       "\n",
       "                                          sparse_joined  \\\n",
       "0     3g hrs tweeting rise_austin dead need upgrade ...   \n",
       "1     know awesome likely appreciate design also giv...   \n",
       "2                                        wait also sale   \n",
       "3                        hope year festival crashy year   \n",
       "4     great stuff fri marissa mayer tim reilly tech ...   \n",
       "...                                                 ...   \n",
       "9088                                         everywhere   \n",
       "9089  wave buzz interrupt regularly scheduled geek p...   \n",
       "9090  zeiger physician never reported potential ae y...   \n",
       "9091  verizon customers complained time fell back ho...   \n",
       "9092                           _ _ _ tests check offers   \n",
       "\n",
       "                                          tokens_joined  \\\n",
       "0     mention 3g iphone 3 hrs tweeting rise_austin d...   \n",
       "1     mention know mention awesome ipad iphone app l...   \n",
       "2                    mention wait ipad 2 also sale sxsw   \n",
       "3     mention hope year festival crashy year iphone ...   \n",
       "4     mention great stuff fri sxsw marissa mayer goo...   \n",
       "...                                                 ...   \n",
       "9088                          ipad everywhere sxsw link   \n",
       "9089  wave buzz rt mention interrupt regularly sched...   \n",
       "9090  google zeiger physician never reported potenti...   \n",
       "9091  verizon iphone customers complained time fell ...   \n",
       "9092  _ _ _ rt mention google tests check offers sxs...   \n",
       "\n",
       "                                        no_brand_joined  \n",
       "0     mention 3g 3 hrs tweeting rise_austin dead nee...  \n",
       "1     mention know mention awesome app likely apprec...  \n",
       "2                         mention wait 2 also sale sxsw  \n",
       "3     mention hope year festival crashy year app men...  \n",
       "4     mention great stuff fri sxsw marissa mayer tim...  \n",
       "...                                                 ...  \n",
       "9088                               everywhere sxsw link  \n",
       "9089  wave buzz rt mention interrupt regularly sched...  \n",
       "9090  zeiger physician never reported potential ae y...  \n",
       "9091  verizon customers complained time fell back ho...  \n",
       "9092      _ _ _ rt mention tests check offers sxsw link  \n",
       "\n",
       "[8909 rows x 17 columns]"
      ]
     },
     "execution_count": 9,
     "metadata": {},
     "output_type": "execute_result"
    }
   ],
   "source": [
    "main_df\n"
   ]
  },
  {
   "cell_type": "code",
   "execution_count": 10,
   "metadata": {},
   "outputs": [],
   "source": [
    "from sklearn.model_selection import train_test_split"
   ]
  },
  {
   "cell_type": "code",
   "execution_count": 11,
   "metadata": {},
   "outputs": [],
   "source": [
    "X= main_df.drop(columns=['emotion', 'emotion_label'], axis=1)\n",
    "y= main_df['emotion_label']\n",
    "\n",
    "X_train, X_test, y_train, y_test = train_test_split(X, y, test_size =.3, random_state = 42, stratify = y)\n"
   ]
  },
  {
   "cell_type": "code",
   "execution_count": 12,
   "metadata": {},
   "outputs": [
    {
     "data": {
      "text/plain": [
       "((2673,), (2673, 15))"
      ]
     },
     "execution_count": 12,
     "metadata": {},
     "output_type": "execute_result"
    }
   ],
   "source": [
    "y_test.shape, X_test.shape"
   ]
  },
  {
   "cell_type": "code",
   "execution_count": 13,
   "metadata": {
    "scrolled": true
   },
   "outputs": [],
   "source": [
    "X_test, X_val, y_test, y_val = train_test_split(X_test, y_test, test_size =.3, random_state = 42, stratify = y_test)\n"
   ]
  },
  {
   "cell_type": "code",
   "execution_count": 14,
   "metadata": {},
   "outputs": [
    {
     "data": {
      "text/plain": [
       "((6236, 15), (1871, 15), (6236,), (1871,), (802, 15), (802,))"
      ]
     },
     "execution_count": 14,
     "metadata": {},
     "output_type": "execute_result"
    }
   ],
   "source": [
    "X_train.shape, X_test.shape, y_train.shape, y_test.shape, X_val.shape, y_val.shape"
   ]
  },
  {
   "cell_type": "code",
   "execution_count": 15,
   "metadata": {},
   "outputs": [],
   "source": [
    "df_pos = main_df.loc[(main_df['emotion']=='None')|(main_df['emotion']=='Positive')]\n",
    "X= df_pos.drop(columns=['emotion', 'emotion_label'])\n",
    "y= df_pos['emotion_label']"
   ]
  },
  {
   "cell_type": "code",
   "execution_count": 16,
   "metadata": {},
   "outputs": [],
   "source": [
    "X_train2, X_test2, y_train2, y_test2 = train_test_split(X, y,random_state=42, test_size= 0.3, stratify=y)\n",
    "X_test2, X_val2, y_test2, y_val2 = train_test_split(X_test2, y_test2, test_size=.3, stratify= y_test2)"
   ]
  },
  {
   "cell_type": "code",
   "execution_count": null,
   "metadata": {},
   "outputs": [],
   "source": []
  },
  {
   "cell_type": "markdown",
   "metadata": {},
   "source": [
    "# Vectorization\n",
    "\n"
   ]
  },
  {
   "cell_type": "code",
   "execution_count": 17,
   "metadata": {},
   "outputs": [],
   "source": [
    "from sklearn.feature_extraction.text import TfidfVectorizer, CountVectorizer"
   ]
  },
  {
   "cell_type": "code",
   "execution_count": 18,
   "metadata": {},
   "outputs": [],
   "source": [
    "tfidf = TfidfVectorizer()\n",
    "X_train_vectorized = tfidf.fit_transform(X_train['sparse_joined'])\n",
    "X_test_vectorized = tfidf.transform(X_test['sparse_joined'])\n",
    "#most common words\n",
    "X_train_tfidf = pd.DataFrame.sparse.from_spmatrix(X_train_vectorized, columns=tfidf.get_feature_names())\n",
    "X_test_tfidf = pd.DataFrame.sparse.from_spmatrix(X_test_vectorized, columns=tfidf.get_feature_names())\n",
    "\n"
   ]
  },
  {
   "cell_type": "code",
   "execution_count": 19,
   "metadata": {},
   "outputs": [
    {
     "data": {
      "text/plain": [
       "scipy.sparse.csr.csr_matrix"
      ]
     },
     "execution_count": 19,
     "metadata": {},
     "output_type": "execute_result"
    }
   ],
   "source": [
    "type(X_train_vectorized)"
   ]
  },
  {
   "cell_type": "code",
   "execution_count": 20,
   "metadata": {},
   "outputs": [],
   "source": [
    "# tfidf2 = TfidfVectorizer()\n",
    "# X_train2_vectorized = tfidf2.fit_transform(X_train2['sparse_joined'])\n",
    "# X_test2_vectorized = tfidf2.transform(X_test2['sparse_joined'])\n",
    "# X_train2_tfidf_sparse = pd.DataFrame.sparse.from_spmatrix(X_train2_vectorized, columns=tfidf2.get_feature_names())\n",
    "# X_test2_tfidf_sparse = pd.DataFrame.sparse.from_spmatrix(X_test2_vectorized, columns=tfidf2.get_feature_names())"
   ]
  },
  {
   "cell_type": "code",
   "execution_count": 21,
   "metadata": {},
   "outputs": [],
   "source": [
    "count_vec = CountVectorizer()\n",
    "X_train_vectorized2 = count_vec.fit_transform(X_train['sparse_joined'])\n",
    "X_test_vectorized2 = count_vec.transform(X_train['sparse_joined'])\n",
    "\n",
    "X_train_cv =  pd.DataFrame.sparse.from_spmatrix(X_train_vectorized2, columns=count_vec.get_feature_names())\n",
    "X_test_cv = pd.DataFrame.sparse.from_spmatrix(X_test_vectorized2, columns=count_vec.get_feature_names())"
   ]
  },
  {
   "cell_type": "code",
   "execution_count": 22,
   "metadata": {},
   "outputs": [],
   "source": [
    "# count_vec2 = CountVectorizer()\n",
    "# X_train2_vectorized2 = count_vec.fit_transform(X_train2['sparse_joined'])\n",
    "# X_test2_vectorized2 = count_vec.transform(X_train2['sparse_joined'])\n",
    "\n",
    "# X_train2_cv_sparse =  pd.DataFrame.sparse.from_spmatrix(X_train2_vectorized2, columns=count_vec2.get_feature_names())\n",
    "# X_test2_cv_sparse = pd.DataFrame.sparse.from_spmatrix(X_test2_vectorized2, columns=count_vec2.get_feature_names())"
   ]
  },
  {
   "cell_type": "markdown",
   "metadata": {},
   "source": [
    "# Baseline  \n",
    "1 = none  \n",
    "2 = positive  \n",
    "0 = negative"
   ]
  },
  {
   "cell_type": "code",
   "execution_count": 23,
   "metadata": {},
   "outputs": [
    {
     "data": {
      "text/plain": [
       "1    0.602951\n",
       "2    0.333226\n",
       "0    0.063823\n",
       "Name: emotion_label, dtype: float64"
      ]
     },
     "execution_count": 23,
     "metadata": {},
     "output_type": "execute_result"
    }
   ],
   "source": [
    "y_train.value_counts(normalize=True)"
   ]
  },
  {
   "cell_type": "code",
   "execution_count": 24,
   "metadata": {},
   "outputs": [
    {
     "data": {
      "text/plain": [
       "8049    1\n",
       "505     2\n",
       "9044    2\n",
       "5428    0\n",
       "6918    2\n",
       "       ..\n",
       "8201    1\n",
       "7988    2\n",
       "6776    1\n",
       "2382    1\n",
       "8219    1\n",
       "Name: emotion_label, Length: 6236, dtype: int64"
      ]
     },
     "execution_count": 24,
     "metadata": {},
     "output_type": "execute_result"
    }
   ],
   "source": [
    "y_train"
   ]
  },
  {
   "cell_type": "markdown",
   "metadata": {},
   "source": [
    "# Model"
   ]
  },
  {
   "cell_type": "code",
   "execution_count": 27,
   "metadata": {},
   "outputs": [],
   "source": [
    "from sklearn.tree import DecisionTreeClassifier\n",
    "from sklearn.ensemble import RandomForestClassifier\n",
    "from  sklearn.model_selection import cross_val_score\n",
    "from sklearn.metrics import accuracy_score\n",
    "from sklearn.neural_network import MLPClassifier\n"
   ]
  },
  {
   "cell_type": "code",
   "execution_count": 26,
   "metadata": {},
   "outputs": [
    {
     "data": {
      "text/plain": [
       "MLPClassifier()"
      ]
     },
     "execution_count": 26,
     "metadata": {},
     "output_type": "execute_result"
    }
   ],
   "source": [
    "mlp = MLPClassifier()\n",
    "mlp.fit(X_train_tfidf, y_train)"
   ]
  },
  {
   "cell_type": "code",
   "execution_count": 28,
   "metadata": {},
   "outputs": [
    {
     "name": "stderr",
     "output_type": "stream",
     "text": [
      "C:\\Users\\alexm\\anaconda3\\envs\\learn-env\\lib\\site-packages\\sklearn\\neural_network\\_multilayer_perceptron.py:582: ConvergenceWarning: Stochastic Optimizer: Maximum iterations (200) reached and the optimization hasn't converged yet.\n",
      "  warnings.warn(\n"
     ]
    }
   ],
   "source": [
    "mlp_tfidf_cv = cross_val_score(mlp, X_train_tfidf, y_train).mean()"
   ]
  },
  {
   "cell_type": "code",
   "execution_count": 29,
   "metadata": {},
   "outputs": [
    {
     "data": {
      "text/plain": [
       "0.6420758538440977"
      ]
     },
     "execution_count": 29,
     "metadata": {},
     "output_type": "execute_result"
    }
   ],
   "source": [
    "mlp_tfidf_cv"
   ]
  },
  {
   "cell_type": "code",
   "execution_count": 30,
   "metadata": {},
   "outputs": [
    {
     "data": {
      "text/plain": [
       "0.6376269374665954"
      ]
     },
     "execution_count": 30,
     "metadata": {},
     "output_type": "execute_result"
    }
   ],
   "source": [
    "mlp.score(X_test_tfidf, y_test)"
   ]
  },
  {
   "cell_type": "code",
   "execution_count": 30,
   "metadata": {},
   "outputs": [
    {
     "data": {
      "text/plain": [
       "DecisionTreeClassifier()"
      ]
     },
     "execution_count": 30,
     "metadata": {},
     "output_type": "execute_result"
    }
   ],
   "source": [
    "mlp_cv = MLPClassifier()"
   ]
  },
  {
   "cell_type": "code",
   "execution_count": 32,
   "metadata": {},
   "outputs": [
    {
     "ename": "NameError",
     "evalue": "name 'mlp_cv' is not defined",
     "output_type": "error",
     "traceback": [
      "\u001b[1;31m---------------------------------------------------------------------------\u001b[0m",
      "\u001b[1;31mNameError\u001b[0m                                 Traceback (most recent call last)",
      "\u001b[1;32m<ipython-input-32-340b3fd0b5a2>\u001b[0m in \u001b[0;36m<module>\u001b[1;34m\u001b[0m\n\u001b[1;32m----> 1\u001b[1;33m \u001b[0mmlp_cv\u001b[0m\u001b[1;33m.\u001b[0m\u001b[0mfit\u001b[0m\u001b[1;33m(\u001b[0m\u001b[0mX_test_cv\u001b[0m\u001b[1;33m,\u001b[0m \u001b[0my_train\u001b[0m\u001b[1;33m)\u001b[0m\u001b[1;33m\u001b[0m\u001b[1;33m\u001b[0m\u001b[0m\n\u001b[0m",
      "\u001b[1;31mNameError\u001b[0m: name 'mlp_cv' is not defined"
     ]
    }
   ],
   "source": [
    "mlp_cv.fit(X_test_cv, y_train)"
   ]
  },
  {
   "cell_type": "code",
   "execution_count": 32,
   "metadata": {},
   "outputs": [
    {
     "data": {
      "text/plain": [
       "0.6266850698085662"
      ]
     },
     "execution_count": 32,
     "metadata": {},
     "output_type": "execute_result"
    }
   ],
   "source": []
  },
  {
   "cell_type": "code",
   "execution_count": 41,
   "metadata": {},
   "outputs": [
    {
     "data": {
      "text/plain": [
       "1    3760\n",
       "2    2078\n",
       "0     398\n",
       "Name: emotion_label, dtype: int64"
      ]
     },
     "execution_count": 41,
     "metadata": {},
     "output_type": "execute_result"
    }
   ],
   "source": []
  },
  {
   "cell_type": "code",
   "execution_count": null,
   "metadata": {},
   "outputs": [],
   "source": []
  }
 ],
 "metadata": {
  "kernelspec": {
   "display_name": "Python (learn-env)",
   "language": "python",
   "name": "learn-env"
  },
  "language_info": {
   "codemirror_mode": {
    "name": "ipython",
    "version": 3
   },
   "file_extension": ".py",
   "mimetype": "text/x-python",
   "name": "python",
   "nbconvert_exporter": "python",
   "pygments_lexer": "ipython3",
   "version": "3.8.5"
  },
  "varInspector": {
   "cols": {
    "lenName": 16,
    "lenType": 16,
    "lenVar": 40
   },
   "kernels_config": {
    "python": {
     "delete_cmd_postfix": "",
     "delete_cmd_prefix": "del ",
     "library": "var_list.py",
     "varRefreshCmd": "print(var_dic_list())"
    },
    "r": {
     "delete_cmd_postfix": ") ",
     "delete_cmd_prefix": "rm(",
     "library": "var_list.r",
     "varRefreshCmd": "cat(var_dic_list()) "
    }
   },
   "position": {
    "height": "340.185px",
    "left": "1010.23px",
    "right": "20px",
    "top": "261.975px",
    "width": "349.977px"
   },
   "types_to_exclude": [
    "module",
    "function",
    "builtin_function_or_method",
    "instance",
    "_Feature"
   ],
   "window_display": false
  }
 },
 "nbformat": 4,
 "nbformat_minor": 4
}
